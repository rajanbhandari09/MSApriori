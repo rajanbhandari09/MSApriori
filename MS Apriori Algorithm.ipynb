{
 "cells": [
  {
   "cell_type": "code",
   "execution_count": 2,
   "metadata": {
    "collapsed": false
   },
   "outputs": [
    {
     "name": "stdout",
     "output_type": "stream",
     "text": [
      "[['1'], ['2'], ['3'], ['5'], ['1', '2'], ['1', '3'], ['1', '5'], ['2', '3'], ['2', '5'], ['3', '5'], ['1', '2', '5'], ['2', '3', '5']]\n"
     ]
    }
   ],
   "source": [
    "# %load Apriori.py\n",
    "\"\"\"\n",
    "Created on Sun Sep  4 21:00:16 2016\n",
    "\n",
    "@author: sreejithmenon\n",
    "\"\"\"\n",
    "from collections import Counter,OrderedDict\n",
    "\n",
    "def genSubsets(l):\n",
    "    powerSetSize = 2 ** len(l)\n",
    "    powerSet = []\n",
    "    for i in range(1,powerSetSize):\n",
    "        tempEle = []\n",
    "        for j in range(len(l)):\n",
    "            binFlagInd = i & (1 << j)\n",
    "            if binFlagInd:\n",
    "                tempEle.append(l[j])\n",
    "        powerSet.append(tempEle)\n",
    "    return powerSet\n",
    "\n",
    "\n",
    "# Apriori Algorithm Implementation\n",
    "def genCandidate(Fk1): #Fk1 indicates F(k-1), it is a list of lists\n",
    "    Ck = []\n",
    "    k1  = len(Fk1[0])\n",
    "\n",
    "    # COMBINE STEP\n",
    "    for i in range(len(Fk1)-1):\n",
    "        for j in range(i+1,len(Fk1)):\n",
    "            f1,f2 = Fk1[i],Fk1[j]\n",
    "\n",
    "            if f1[:len(f1)-1] == f2[:len(f2)-1] and f1[-1] < f2[-1]:\n",
    "                tempC = f1 + [f2[-1]]\n",
    "\n",
    "                # PRUNING STEP\n",
    "                subset = genSubsets(tempC)\n",
    "                appendSts = True\n",
    "                for item in subset:\n",
    "                    if len(item) == k1 and item not in Fk1:\n",
    "                        appendSts = False\n",
    "                if appendSts:\n",
    "                    Ck.append(tempC)              \n",
    "    return Ck\n",
    "    \n",
    "def initPass(txList): # list of transactions, most possibly a dict\n",
    "    allTx = [item for tx in txList for item in tx]\n",
    "    allTx.sort()\n",
    "    cntr =  OrderedDict()\n",
    "    for tx in allTx:\n",
    "        cntr[tx] = cntr.get(tx,0) + 1\n",
    "\n",
    "    return cntr\n",
    "\n",
    "def searchInT(t,candid):\n",
    "    found = True\n",
    "    for eachCandid in candid:\n",
    "        if eachCandid not in t:\n",
    "            found = False\n",
    "\n",
    "    return found\n",
    "\n",
    "def apriori(T,minSup):\n",
    "    finalSet = []\n",
    "    c1 = initPass(T)\n",
    "    f = [[item] for item in c1.keys() if c1[item]/len(T) >= minSup] # f1\n",
    "    \n",
    "    for item in f:\n",
    "        finalSet.append(item)\n",
    "\n",
    "    while len(f) != 0:\n",
    "        Ck = genCandidate(f)\n",
    "        # print(\"Ck\")\n",
    "        # print(Ck)\n",
    "        freqDict = {}\n",
    "        for t in T:\n",
    "            for candidate in Ck:\n",
    "                if searchInT(t,candidate):\n",
    "                    freqDict[tuple(candidate)] = freqDict.get(tuple(candidate),0) + 1\n",
    "        # print(\"freqDict\")\n",
    "        # print(freqDict)\n",
    "        f = []\n",
    "        for c in freqDict.keys():\n",
    "            if freqDict[c]/len(T)>= minSup:\n",
    "                f.append(list(c))\n",
    "\n",
    "        # print(\"f\")\n",
    "        # print(f)\n",
    "        if len(f) != 0:\n",
    "            f = sorted(f,key=lambda x : (len(x),*x))\n",
    "            for item in f:\n",
    "                finalSet.append(item)\n",
    "    # print(finalSet)\n",
    "    return finalSet\n",
    "\n",
    "\n",
    "T = [\n",
    "    ['1', '3', '4'],\n",
    "    ['2', '3', '5'],\n",
    "    ['1', '2', '3', '5'],\n",
    "    ['1','2','5']\n",
    "    ] \n",
    "\n",
    "print(apriori(T,0.5))"
   ]
  },
  {
   "cell_type": "code",
   "execution_count": null,
   "metadata": {
    "collapsed": true
   },
   "outputs": [],
   "source": [
    "def MSapriori(T,MS,psi)\n",
    "\n"
   ]
  },
  {
   "cell_type": "code",
   "execution_count": 3,
   "metadata": {
    "collapsed": false
   },
   "outputs": [
    {
     "name": "stdout",
     "output_type": "stream",
     "text": [
      "['5', '1', '3', '2', '4']\n"
     ]
    }
   ],
   "source": [
    "#Complete Itemset I generation\n",
    "T = [\n",
    "    ['1', '3', '4'],\n",
    "    ['2', '3', '5'],\n",
    "    ['1', '2', '3', '5'],\n",
    "    ['1','2','5']\n",
    "    ]\n",
    "I = set()\n",
    "\n",
    "for tx in T:\n",
    "    for item in tx:\n",
    "        I.add(item)\n",
    "        \n",
    "        \n",
    "print(list(I))\n"
   ]
  },
  {
   "cell_type": "code",
   "execution_count": 9,
   "metadata": {
    "collapsed": false
   },
   "outputs": [
    {
     "name": "stdout",
     "output_type": "stream",
     "text": [
      "[{'item': '3', 'Msi': '0.05'}, {'item': '4', 'Msi': '0.06'}, {'item': '1', 'Msi': '0.1'}, {'item': '2', 'Msi': '0.2'}]\n",
      "['3', '4', '1', '2']\n"
     ]
    }
   ],
   "source": [
    "#Set M generation assuming MS is a list of dictionary\n",
    "MS = [{'item': '1', 'Msi':'0.1'},\n",
    "     {'item': '2', 'Msi':'0.2'},\n",
    "     {'item': '3', 'Msi':'0.05'},\n",
    "     {'item': '4', 'Msi':'0.06'}]\n",
    "I = sorted(MS,key = lambda x:x['Msi'])\n",
    "print(I)\n",
    "M = []\n",
    "for x in I:\n",
    "    M.append(x['item'])\n",
    "print(M)\n",
    "    "
   ]
  },
  {
   "cell_type": "code",
   "execution_count": 11,
   "metadata": {
    "collapsed": false
   },
   "outputs": [
    {
     "name": "stdout",
     "output_type": "stream",
     "text": [
      "[('3', '0.05'), ('4', '0.06'), ('1', '0.1'), ('2', '0.2')]\n",
      "['3', '4', '1', '2']\n"
     ]
    }
   ],
   "source": [
    "#Set M generation assuming MS is a list of tuples\n",
    "MS = [('1','0.1'),('2','0.2'),('3','0.05'),('4','0.06')]\n",
    "I = sorted(MS,key=lambda x:x[1])\n",
    "print(I)\n",
    "M = []\n",
    "for x in I:\n",
    "    M.append(x[0])\n",
    "print(M)"
   ]
  },
  {
   "cell_type": "code",
   "execution_count": null,
   "metadata": {
    "collapsed": true
   },
   "outputs": [],
   "source": [
    "def init-pass(M,T)\n",
    "count = Counter()\n",
    "for trx in T:\n",
    "    for item in trx:\n",
    "        count[item]+=1\n"
   ]
  },
  {
   "cell_type": "code",
   "execution_count": 3,
   "metadata": {
    "collapsed": false
   },
   "outputs": [
    {
     "name": "stdout",
     "output_type": "stream",
     "text": [
      "Counter({'1': 3, '2': 3, '3': 3, '5': 3, '4': 1})\n",
      "0.05\n",
      "0.06\n",
      "0.1\n",
      "2\n"
     ]
    },
    {
     "ename": "SyntaxError",
     "evalue": "'return' outside function (<ipython-input-3-1cff3044eeca>, line 39)",
     "output_type": "error",
     "traceback": [
      "\u001b[1;36m  File \u001b[1;32m\"<ipython-input-3-1cff3044eeca>\"\u001b[1;36m, line \u001b[1;32m39\u001b[0m\n\u001b[1;33m    return minMsi\u001b[0m\n\u001b[1;37m    ^\u001b[0m\n\u001b[1;31mSyntaxError\u001b[0m\u001b[1;31m:\u001b[0m 'return' outside function\n"
     ]
    }
   ],
   "source": [
    "def minMsi():\n",
    "    T = [\n",
    "    ['1', '3', '4'],\n",
    "    ['2', '3', '5'],\n",
    "    ['1', '2', '3', '5'],\n",
    "    ['1','2','5']\n",
    "    ]\n",
    "M = ['3', '4', '1', '2']\n",
    "\n",
    "MS = [{'item': '1', 'Msi':'0.1'},\n",
    "     {'item': '2', 'Msi':'0.2'},\n",
    "     {'item': '3', 'Msi':'0.05'},\n",
    "     {'item': '4', 'Msi':'0.06'}]\n",
    "\n",
    "L =[]\n",
    "\n",
    "count = Counter()\n",
    "for x in T:\n",
    "    for xx in x:\n",
    "        count[xx]+=1\n",
    "print(count)\n",
    "\n",
    "for i in range(0,len(M)-1):\n",
    "    for x in MS:\n",
    "        if M[i] == x['item']:\n",
    "            if count[M[i]]/len(T) >= float(x['Msi']):\n",
    "                minMsi = float(x['Msi'])\n",
    "                print(minMsi)\n",
    "                L.append(M[i])\n",
    "                \n",
    "            \n",
    "                \n",
    "                \n",
    "print(i)\n",
    "for j in range(i,len(M)-1):\n",
    "    for x in MS:\n",
    "        if M[i] == x['item']:\n",
    "            if count[M[i]]/len(T) >= minMsi:\n",
    "                L.append(M[i])\n",
    "                return minMsi\n",
    "print(L)\n",
    "        \n",
    "\n",
    "            \n",
    "        \n",
    "        \n",
    "               \n",
    "                \n",
    "        "
   ]
  },
  {
   "cell_type": "code",
   "execution_count": null,
   "metadata": {
    "collapsed": true
   },
   "outputs": [],
   "source": []
  }
 ],
 "metadata": {
  "kernelspec": {
   "display_name": "Python 3",
   "language": "python",
   "name": "python3"
  },
  "language_info": {
   "codemirror_mode": {
    "name": "ipython",
    "version": 3
   },
   "file_extension": ".py",
   "mimetype": "text/x-python",
   "name": "python",
   "nbconvert_exporter": "python",
   "pygments_lexer": "ipython3",
   "version": "3.5.2"
  }
 },
 "nbformat": 4,
 "nbformat_minor": 0
}
