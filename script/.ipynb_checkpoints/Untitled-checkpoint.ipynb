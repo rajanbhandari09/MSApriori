{
 "cells": [
  {
   "cell_type": "code",
   "execution_count": 2,
   "metadata": {
    "collapsed": true
   },
   "outputs": [],
   "source": [
    "from collections import Counter,OrderedDict\n",
    "import re\n",
    "\n",
    "# Method for generating all length subsets of elements in l\n",
    "def genSubsets(l):\n",
    "    powerSetSize = 2 ** len(l)\n",
    "    powerSet = []\n",
    "    for i in range(1,powerSetSize):\n",
    "        tempEle = []\n",
    "        for j in range(len(l)):\n",
    "            binFlagInd = i & (1 << j)\n",
    "            if binFlagInd:\n",
    "                tempEle.append(l[j])\n",
    "        powerSet.append(tempEle)\n",
    "    return powerSet\n",
    "\n",
    "\n",
    "# Method to parse input files and the parameter file. \n",
    "def fileParser(transFileName,paramFileName):\n",
    "    with open(paramFileName,'r') as param:\n",
    "        data = [row for row in param]\n",
    "    minSupDict = {}\n",
    "    \n",
    "    # logic for parsing all MIS values\n",
    "    i = 0\n",
    "    for i in range(len(data)-3):\n",
    "        items = list(map(lambda x:x.strip(),data[i].split(\"=\")))\n",
    "        reSearch = re.search(r'MIS\\(?(\\w+)\\)?',items[0])\n",
    "        key = reSearch.group(1)\n",
    "        minSupDict[tuple([key])] = float(items[1])\n",
    "\n",
    "    items = list(map(lambda x:x.strip(),data[i+1].split(\"=\")))\n",
    "    sdc = float(items[1])\n",
    "\n",
    "    items = list(map(lambda x:x.strip(),data[i+2].split(\":\")))\n",
    "    cannot_be_together = list(map(lambda x : str(x),list(eval(items[1]))))\n",
    "\n",
    "    items = list(map(lambda x:x.strip(),data[i+3].split(\":\")))\n",
    "    must_have = items[1].split(\" or \")\n",
    "\n",
    "    with open(transFileName,'r') as trans:\n",
    "        data = [row for row in trans]\n",
    "\n",
    "    inpData = [list(map(lambda x : str(x),list(eval(line)))) for line in data]  \n",
    "    return inpData,minSupDict,sdc,cannot_be_together,must_have\n",
    "\n",
    "def searchInT(t,candid): # t here is a single transaction\n",
    "    found = True\n",
    "    for eachCandid in candid:\n",
    "        if eachCandid[0] not in t:\n",
    "            found = False\n",
    "\n",
    "    return found"
   ]
  },
  {
   "cell_type": "code",
   "execution_count": 3,
   "metadata": {
    "collapsed": true
   },
   "outputs": [],
   "source": [
    "def initpass(MS,M,T):   \n",
    "    cntr =  OrderedDict()\n",
    "\n",
    "    # Get counts for all individual items\n",
    "    for item in M:\n",
    "    \tfor tx in T:\n",
    "    \t\tif item[0] in tx:\n",
    "        \t\tcntr[item] = cntr.get(item,0) + 1\n",
    "    i = 0\n",
    "    while M[i] in cntr.keys() and cntr[M[i]]/len(T) < MS[M[i]]:\n",
    "        i += 1\n",
    "    \n",
    "    L = OrderedDict()\n",
    "    for j in range(i,len(M)):\n",
    "        if M[j] in cntr.keys() and cntr[M[j]] >= MS[M[i]]:\n",
    "            L[M[j]] = cntr[M[j]]\n",
    "\n",
    "    return L"
   ]
  },
  {
   "cell_type": "code",
   "execution_count": 4,
   "metadata": {
    "collapsed": false
   },
   "outputs": [],
   "source": [
    "def level2_candidate_gen(L,psi,MS,M,T):\n",
    "    C = []\n",
    "\n",
    "    for i in range(0,len(M)-1):\n",
    "        if M[i] in L.keys() and L[M[i]]/len(T) >= MS[M[i]]:\n",
    "            for j in range(i+1,len(M)):\n",
    "                if M[j] in L.keys() and L[M[j]]/len(T)>=MS[M[i]] and abs(L[M[j]]/len(T) - L[M[i]]/len(T)) <= psi:\n",
    "                    freqitems = []\n",
    "                    freqitems.append(M[i])\n",
    "                    freqitems.append(M[j])\n",
    "                    C.append(tuple(freqitems))\n",
    "    return C"
   ]
  },
  {
   "cell_type": "code",
   "execution_count": 5,
   "metadata": {
    "collapsed": true
   },
   "outputs": [],
   "source": [
    "def MS_genCandidate(Fk1,psi,count,T,MS): #Fk1 indicates F(k-1), it is a list of lists\n",
    "    Ck = []\n",
    "    k1  = len(Fk1[0])\n",
    "\n",
    "    # print(Fk1)\n",
    "    # COMBINE STEP\n",
    "    for i in range(len(Fk1)-1):\n",
    "        for j in range(i+1,len(Fk1)):\n",
    "            f1,f2 = Fk1[i],Fk1[j]\n",
    "            \n",
    "            if f1[:len(f1)-1] == f2[:len(f2)-1] and f1[-1] < f2[-1] and abs(count[f1[-1]]/len(T) - count[f2[-1]]/len(T)) <= psi:\n",
    "                tempC = f1 + tuple([f2[-1]])\n",
    "#                 print(\"tempC\")\n",
    "#                 print(tempC)\n",
    "                # PRUNING STEP\n",
    "                subset = genSubsets(tempC)\n",
    "                subset = list(filter(lambda x: len(x) == k1,subset))\n",
    "                appendSts = True\n",
    "                for item in subset:\n",
    "                    if tempC[0] in item or (MS[tempC[0]] == MS[tempC[1]]):\n",
    "                        if tuple(item) not in Fk1:\n",
    "                            appendSts = False\n",
    "                if appendSts:\n",
    "                    Ck.append(tempC)              \n",
    "    return Ck"
   ]
  },
  {
   "cell_type": "code",
   "execution_count": 6,
   "metadata": {
    "collapsed": true
   },
   "outputs": [],
   "source": [
    "def MS_Apriori(T,MS,psi):\n",
    "    M = sorted(MS.keys(),key = lambda x:MS[x]) # M is the list of all items in the transaction table sorted by their Min-Support values\n",
    "    L = initpass(MS,M,T)\n",
    "\n",
    "    finalSet = []\n",
    "    count = {}\n",
    "    tailCount = {}\n",
    "    \n",
    "    F = [item for item in L.keys() if L[item]/len(T) >= MS[item]]\n",
    "\n",
    "    for item in L.keys():\n",
    "        count[item] = L[item]\n",
    "        tailCount[item] = 0\n",
    "\n",
    "    for item in F:\n",
    "        finalSet.append(item)\n",
    "\n",
    "    k = 2\n",
    "    while len(F) != 0:\n",
    "        tempCount = {}\n",
    "        F = []\n",
    "        if k == 2:\n",
    "            Ck = level2_candidate_gen(L,psi,MS,M,T)\n",
    "        else:\n",
    "            Ck = MS_genCandidate(Fk1,psi,count,T,MS)\n",
    "        \n",
    "        for t in T:\n",
    "            for c in Ck:\n",
    "                if searchInT(t,c):\n",
    "                    count[tuple(c)] = count.get(tuple(c),0) + 1\n",
    "                    tempCount[tuple(c)] = tempCount.get(tuple(c),0) + 1\n",
    "                if searchInT(t,c[1:]):\n",
    "                    tailCount[tuple(c)] = tailCount.get(tuple(c),0) + 1\n",
    "\n",
    "        for c in Ck:\n",
    "            if c in count.keys() and count[tuple(c)]/len(T) >= MS[c[0]]:\n",
    "                F.append(c)\n",
    "\n",
    "        for item in F:\n",
    "            finalSet.append(item)\n",
    "\n",
    "        Fk1 = F \n",
    "\n",
    "        k += 1\n",
    "\n",
    "    return finalSet,count,tailCount"
   ]
  },
  {
   "cell_type": "code",
   "execution_count": 51,
   "metadata": {
    "collapsed": true
   },
   "outputs": [],
   "source": [
    "def applySplConditions(a,cannot_be_together,must_have):\n",
    "    ss = genSubsets(cannot_be_together)\n",
    "    ss = list(filter(lambda x : len(x)==2,ss))\n",
    "\n",
    "    ssTups = []\n",
    "    for row in ss:\n",
    "        temp = []\n",
    "        for item in row:\n",
    "            temp.append(tuple([item]))\n",
    "        ssTups.append(tuple(temp))\n",
    "\n",
    "    filtPatt = []\n",
    "    for sel in a:\n",
    "        appendFlag = True\n",
    "        for sub in ssTups:\n",
    "            if sub[0] in sel and sub[1] in sel:\n",
    "                appendFlag = False\n",
    "        if appendFlag:\n",
    "            filtPatt.append(sel)\n",
    "\n",
    "    mustHavTups = []\n",
    "    for item in must_have:\n",
    "        mustHavTups.append(tuple([item]))\n",
    "\n",
    "    finalAns = []\n",
    "    for item in filtPatt:\n",
    "        appendFlag = False\n",
    "        for musts in mustHavTups:\n",
    "            if len(item) == 1 and item == musts:\n",
    "                appendFlag = True\n",
    "            else:\n",
    "                if musts in item:\n",
    "                    appendFlag = True\n",
    "        if appendFlag:\n",
    "            finalAns.append(item)\n",
    "            \n",
    "    return finalAns"
   ]
  },
  {
   "cell_type": "code",
   "execution_count": 72,
   "metadata": {
    "collapsed": false
   },
   "outputs": [],
   "source": [
    "T,MS,psi,cannot_be_together,must_have =  fileParser(\"../data/input-data-ex-2.txt\",\"../data/parameter-file-ex-2.txt\")\n",
    "a,b,c= MS_Apriori(T,MS,psi)\n",
    "\n",
    "finalAns = applySplConditions(a,cannot_be_together,must_have)\n",
    "\n"
   ]
  },
  {
   "cell_type": "code",
   "execution_count": 73,
   "metadata": {
    "collapsed": false
   },
   "outputs": [
    {
     "data": {
      "text/plain": [
       "[('40',),\n",
       " ('30',),\n",
       " ('50',),\n",
       " ('20',),\n",
       " (('40',), ('30',)),\n",
       " (('40',), ('10',)),\n",
       " (('40',), ('50',)),\n",
       " (('40',), ('20',)),\n",
       " (('30',), ('10',)),\n",
       " (('30',), ('50',)),\n",
       " (('30',), ('20',)),\n",
       " (('10',), ('50',)),\n",
       " (('10',), ('20',)),\n",
       " (('50',), ('20',)),\n",
       " (('40',), ('30',), ('50',)),\n",
       " (('40',), ('10',), ('50',)),\n",
       " (('40',), ('10',), ('20',)),\n",
       " (('30',), ('10',), ('50',)),\n",
       " (('30',), ('10',), ('20',))]"
      ]
     },
     "execution_count": 73,
     "metadata": {},
     "output_type": "execute_result"
    }
   ],
   "source": [
    "finalAns"
   ]
  },
  {
   "cell_type": "code",
   "execution_count": 75,
   "metadata": {
    "collapsed": false
   },
   "outputs": [
    {
     "data": {
      "text/plain": [
       "OrderedDict([(1, 4), (2, 10), (3, 5)])"
      ]
     },
     "execution_count": 75,
     "metadata": {},
     "output_type": "execute_result"
    }
   ],
   "source": [
    "\n",
    "\n",
    "summary"
   ]
  },
  {
   "cell_type": "code",
   "execution_count": 76,
   "metadata": {
    "collapsed": false
   },
   "outputs": [
    {
     "name": "stdout",
     "output_type": "stream",
     "text": [
      "Frequent 1-itemsets\n",
      "\t7 : {40}\n",
      "\t11 : {30}\n",
      "\t11 : {50}\n",
      "\t14 : {20}\n",
      "Total number of Frequent 1-itemsets = 4\n",
      "\n",
      "\n",
      "Frequent 2-itemsets\n",
      "\t4 : {40,30}\n",
      "Tail Count = 11\n",
      "\t4 : {40,10}\n",
      "Tail Count = 11\n",
      "\t6 : {40,50}\n",
      "Tail Count = 11\n",
      "\t7 : {40,20}\n",
      "Tail Count = 14\n",
      "\t10 : {30,10}\n",
      "Tail Count = 11\n",
      "\t9 : {30,50}\n",
      "Tail Count = 11\n",
      "\t10 : {30,20}\n",
      "Tail Count = 14\n",
      "\t9 : {10,50}\n",
      "Tail Count = 11\n",
      "\t11 : {10,20}\n",
      "Tail Count = 14\n",
      "\t11 : {50,20}\n",
      "Tail Count = 14\n",
      "Total number of Frequent 2-itemsets = 10\n",
      "\n",
      "\n",
      "Frequent 3-itemsets\n",
      "\t4 : {40,30,50}\n",
      "Tail Count = 9\n",
      "\t4 : {40,10,50}\n",
      "Tail Count = 9\n",
      "\t4 : {40,10,20}\n",
      "Tail Count = 11\n",
      "\t9 : {30,10,50}\n",
      "Tail Count = 9\n",
      "\t10 : {30,10,20}\n",
      "Tail Count = 11\n",
      "Total number of Frequent 3-itemsets = 5\n",
      "\n",
      "\n"
     ]
    }
   ],
   "source": [
    "# output\n",
    "\n",
    "summary = OrderedDict()\n",
    "for ele in finalAns:\n",
    "    summary[len(ele)] = summary.get(len(ele),0) + 1\n",
    "    \n",
    "with open(\"/tmp/file.dat\",\"w\") as fl:\n",
    "    lineNum = 0\n",
    "    for k in summary.keys():\n",
    "        print(\"Frequent %d-itemsets\" %k)\n",
    "        fl.write(\"Frequent %d-itemsets\\n\" %k)\n",
    "        \n",
    "        for i in range(summary[k]):\n",
    "            if len(finalAns[lineNum+i]) > 1:\n",
    "                flatList = [item for block in finalAns[lineNum+i] for item in block]\n",
    "                eleStr = \",\".join(flatList)\n",
    "            else:\n",
    "                eleStr = finalAns[lineNum+i][0]\n",
    "            \n",
    "            print(\"\\t\" + str(b[finalAns[lineNum+i]]) + \" : {%s}\"%eleStr)\n",
    "            fl.write(\"\\t\" + str(b[finalAns[lineNum+i]]) + \" : {%s}\\n\"%eleStr)\n",
    "            \n",
    "            if len(finalAns[lineNum+i]) > 1:\n",
    "                print(\"Tail Count = %d\" %c[finalAns[lineNum+i]])\n",
    "                fl.write(\"Tail Count = %d\\n\" %c[finalAns[lineNum+i]])\n",
    "        lineNum += (i+1)  \n",
    "        print(\"Total number of Frequent %d-itemsets = %d\\n\" %(k,summary[k]))\n",
    "        fl.write(\"Total number of Frequent %d-itemsets = %d\\n\" %(k,summary[k]))\n",
    "        print()\n",
    "        fl.write(\"\\n\")"
   ]
  },
  {
   "cell_type": "code",
   "execution_count": 60,
   "metadata": {
    "collapsed": false
   },
   "outputs": [
    {
     "data": {
      "text/plain": [
       "[('15',),\n",
       " ('22',),\n",
       " ('10',),\n",
       " (('15',), ('67',)),\n",
       " (('15',), ('42',)),\n",
       " (('15',), ('85',)),\n",
       " (('15',), ('79',)),\n",
       " (('22',), ('67',)),\n",
       " (('22',), ('42',)),\n",
       " (('22',), ('85',)),\n",
       " (('22',), ('33',)),\n",
       " (('22',), ('79',)),\n",
       " (('22',), ('90',)),\n",
       " (('67',), ('10',)),\n",
       " (('10',), ('85',)),\n",
       " (('10',), ('79',)),\n",
       " (('15',), ('67',), ('85',)),\n",
       " (('15',), ('67',), ('79',)),\n",
       " (('15',), ('42',), ('85',)),\n",
       " (('15',), ('42',), ('79',)),\n",
       " (('22',), ('42',), ('90',)),\n",
       " (('22',), ('33',), ('90',)),\n",
       " (('67',), ('10',), ('85',))]"
      ]
     },
     "execution_count": 60,
     "metadata": {},
     "output_type": "execute_result"
    }
   ],
   "source": [
    "finalAns"
   ]
  },
  {
   "cell_type": "code",
   "execution_count": null,
   "metadata": {
    "collapsed": true
   },
   "outputs": [],
   "source": []
  }
 ],
 "metadata": {
  "kernelspec": {
   "display_name": "Python 3",
   "language": "python",
   "name": "python3"
  },
  "language_info": {
   "codemirror_mode": {
    "name": "ipython",
    "version": 3
   },
   "file_extension": ".py",
   "mimetype": "text/x-python",
   "name": "python",
   "nbconvert_exporter": "python",
   "pygments_lexer": "ipython3",
   "version": "3.5.2"
  }
 },
 "nbformat": 4,
 "nbformat_minor": 0
}
